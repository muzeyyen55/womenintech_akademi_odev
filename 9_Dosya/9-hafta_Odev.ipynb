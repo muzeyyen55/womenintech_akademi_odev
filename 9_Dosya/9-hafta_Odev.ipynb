{
 "cells": [
  {
   "cell_type": "markdown",
   "metadata": {},
   "source": [
    "* İşlenmiş olan all_data içerisinde her kelimeden kaç adet geçtiği bulunacak ve bir dictionary de tutulacak. dict = {'anasayfa':6, 'belediye':78}\n",
    "\n",
    "* En sık kullanılan 100 kelimeyi ekranda göster\n",
    "\n",
    "islenmis    İ S L E N M İ S\n",
    "\n",
    "olan        O L A N\n",
    "\n",
    "alldata     A L L D A T A\n",
    "\n",
    "icerisinde  İ C E R İ S İ N D E"
   ]
  }
 ],
 "metadata": {
  "language_info": {
   "name": "python"
  },
  "orig_nbformat": 4
 },
 "nbformat": 4,
 "nbformat_minor": 2
}
