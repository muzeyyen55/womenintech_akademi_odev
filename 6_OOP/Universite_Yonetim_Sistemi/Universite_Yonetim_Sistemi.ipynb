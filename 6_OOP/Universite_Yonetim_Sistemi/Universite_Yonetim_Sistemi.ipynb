{
 "cells": [
  {
   "cell_type": "markdown",
   "metadata": {},
   "source": [
    "**ÜNİVERSİTE YÖNETİM SİSTEMİ**\n",
    "\n",
    "* Üniversiteye ait sınıflıklar, çalışma ofisleri ve departmanlar vardır.\n",
    "\n",
    "* Departmanlara ait ofisler vardır.\n",
    "\n",
    "* Üniversiteye ait çalışanlar vardır. Bu çalışanlar profesör veya memur olabilir.\n",
    "\n",
    "* Her çalışan bir ofiste çalışır."
   ]
  }
 ],
 "metadata": {
  "kernelspec": {
   "display_name": "Python 3.10.8 64-bit (microsoft store)",
   "language": "python",
   "name": "python3"
  },
  "language_info": {
   "name": "python",
   "version": "3.10.8"
  },
  "orig_nbformat": 4,
  "vscode": {
   "interpreter": {
    "hash": "75328cd36868a46990b96b50a3e79d16599f753ed0672728bccd76ddc954032c"
   }
  }
 },
 "nbformat": 4,
 "nbformat_minor": 2
}
