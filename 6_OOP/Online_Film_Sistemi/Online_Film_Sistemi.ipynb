{
 "cells": [
  {
   "cell_type": "markdown",
   "metadata": {},
   "source": [
    "**ONLİNE FİLM SİSTEMİ**\n",
    "\n",
    "Online film satan veya kiralayan uygulamanın sistemini tasarlayın.\n",
    "\n",
    "* Uygulamada filmler listelenebilir, sıralanabilir ve kullanıcılar uygulamaya abone olabilir.\n",
    "\n",
    "* Kullanıcılar abonelik için sistem üzerinden kredi satın alır.\n",
    "\n",
    "* Sadece abone olan kullanıcılar, kredileri ile film kiralayabilir filmin kredi bedeli kadar hesabından düşülür.\n",
    "\n",
    "* Normal kullanıcılar ve aboneler film satın alabilirler.\n",
    "\n",
    "* Eğer film mevcut değil ise talep edilebilir."
   ]
  }
 ],
 "metadata": {
  "kernelspec": {
   "display_name": "Python 3.10.8 64-bit (microsoft store)",
   "language": "python",
   "name": "python3"
  },
  "language_info": {
   "name": "python",
   "version": "3.10.8"
  },
  "orig_nbformat": 4,
  "vscode": {
   "interpreter": {
    "hash": "75328cd36868a46990b96b50a3e79d16599f753ed0672728bccd76ddc954032c"
   }
  }
 },
 "nbformat": 4,
 "nbformat_minor": 2
}
