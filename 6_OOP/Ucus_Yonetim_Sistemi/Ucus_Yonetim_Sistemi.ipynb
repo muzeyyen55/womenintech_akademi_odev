{
 "cells": [
  {
   "cell_type": "markdown",
   "metadata": {},
   "source": [
    "**UÇUŞ YÖNETİM SİSTEMİ**\n",
    "\n",
    "Uçuşların ve pilotların yönetimi için bir sistem tasarlayın.\n",
    "\n",
    "* Havayolu şirketleri uçuşları gerçekleştirir. Her havayolunun bir kimliği vardır.\n",
    "\n",
    "* Havayolu şirketi, farklı tipteki uçaklara sahiptir.\n",
    "\n",
    "* Uçaklar çalışır veya onarım durumunda olabilir.\n",
    "\n",
    "* Her uçuşun benzersiz kimliği, kalkacağı ve ineceği havaalanı, kalkış ve iniş saatleri vardır.\n",
    "\n",
    "* Her uçuşun bir pilotu ve yardımcı pilotu vardır ve uçağı kullanırlar.\n",
    "\n",
    "* Havaalanlarının benzersiz kimlikleri ve isimleri vardır.\n",
    "\n",
    "* Havayolu şirketlerinin pilotları vardır ve her pilotun bir deneyim seviyesi mevcuttur.\n",
    "\n",
    "* Bir uçak tipi, belirli sayıda pilota ihtiyaç duyabilir."
   ]
  }
 ],
 "metadata": {
  "kernelspec": {
   "display_name": "Python 3.10.8 64-bit (microsoft store)",
   "language": "python",
   "name": "python3"
  },
  "language_info": {
   "name": "python",
   "version": "3.10.8"
  },
  "orig_nbformat": 4,
  "vscode": {
   "interpreter": {
    "hash": "75328cd36868a46990b96b50a3e79d16599f753ed0672728bccd76ddc954032c"
   }
  }
 },
 "nbformat": 4,
 "nbformat_minor": 2
}
