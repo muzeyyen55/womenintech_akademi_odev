{
 "cells": [
  {
   "cell_type": "markdown",
   "metadata": {},
   "source": [
    "**1. Soru**\n",
    "\n",
    "Uçuşların ve pilotların yönetimi için bir sistem tasarlayın.\n",
    "\n",
    "* Havayolu şirketleri uçuşları gerçekleştirir. Her havayolunun bir kimliği vardır.\n",
    "* Havayolu şirketi, farklı tipteki uçaklara sahiptir.\n",
    "* Uçaklar çalışır veya onarım durumunda olabilir.\n",
    "* Her uçuşun benzersiz kimliği, kalkacağı ve ineceği havaalanı, kalkış ve iniş saatleri vardır.\n",
    "* Her uçuşun bir pilotu ve yardımcı pilotu vardır ve uçağı kullanırlar.\n",
    "* Havaalanlarının benzersiz kimlikleri ve isimleri vardır.\n",
    "* Havayolu şirketlerinin pilotları vardır ve her pilotun bir deneyim seviyesi mevcuttur.\n",
    "* Bir uçak tipi, belirli sayıda pilota ihtiyaç duyabilir."
   ]
  },
  {
   "cell_type": "code",
   "execution_count": null,
   "metadata": {},
   "outputs": [],
   "source": []
  },
  {
   "cell_type": "markdown",
   "metadata": {},
   "source": [
    "**2. Soru**\n",
    "\n",
    "Online film satan veya kiralayan uygulamanın sistemini tasarlayın.\n",
    "* Uygulamada filmler listelenebilir, sıralanabilir ve kullanıcılar uygulamaya abone olabilir.\n",
    "* Kullanıcılar abonelik için sistem üzerinden kredi satın alır.\n",
    "* Sadece abone olan kullanıcılar, kredileri ile film kiralayabilir filmin kredi bedeli kadar hesabından düşülür.\n",
    "* Normal kullanıcılar ve aboneler film satın alabilirler.\n",
    "* Eğer film mevcut değil ise talep edilebilir."
   ]
  },
  {
   "cell_type": "code",
   "execution_count": null,
   "metadata": {},
   "outputs": [],
   "source": []
  },
  {
   "cell_type": "markdown",
   "metadata": {},
   "source": [
    "**3. Soru**\n",
    "\n",
    "Aşağıdaki problem ifadesine göre bir sınıf diyagramı tasarlayın.\n",
    "\n",
    "* Nesne Yönelimli Programlamanın ilkelerini ve sınıflar arası ilişki durumlarını kullanmaya çalışın. (Encapsulation, Inheritance, Polymorphism, Abstraction)\n",
    "\n",
    "* Kodluyoruz Sigorta Şirketi 12 katlı bir ofis binası inşa etmek ve onu en son asansör teknolojisi ile donatmak istiyor. Şirket, bina içindeki trafik akışı ihtiyaçlarını karşılayıp karşılayamayacaklarını görmek için binanın asansörlerinin işlemlerini modelleyen bir yazılım simülatörü oluşturmanızı istiyor.\n",
    "\n",
    "* Binada, her biri binanın 12 katına çıkabilecek bir asansör bulunacaktır. Her asansörün yaklaşık altı yetişkin yolcu kapasitesi vardır. Asansörler enerji tasarruflu olacak şekilde tasarlanmıştır, bu nedenle yalnızca gerektiğinde hareket ederler. Her asansörün kendi kapısı, kart gösterge ışığı ve kontrol paneli vardır. Kontrol panelinde hedef düğmeleri, kapı açma ve kapama düğmeleri ve bir acil durum sinyal düğmesi bulunur.\n",
    "\n",
    "* Binadaki her katta, beş asansör boşluğunun her biri için bir kapı ve her kapı için bir varış zili vardır. Varış zili, asansörlerin bir kata vardığını gösterir. Her kapının üzerinde bulunan bir sinyal ışığı, asansörün gelişini ve asansörün hareket ettiği yönü gösterir. Her katta ayrıca üç set asansör çağrı düğmesi vardır.\n",
    "\n",
    "* Bir kişi uygun çağrı düğmesine (yukarı veya aşağı) basarak bir asansörü çağırır. Bir programlayıcı, aramanın başladığı kata gitmek için beş asansörden birini görevlendirir. Asansöre girdikten sonra, bir yolcu tipik olarak bir veya daha fazla hedef düğmesine basar. Asansör kattan kata hareket ederken, asansörün içindeki bir gösterge ışığı yolcuları asansörün konumu hakkında bilgilendirir. Bir asansörün bir kata varması, dış asansör kapısının üzerindeki gösterge lambasının yakılması ve kat zilinin çalmasıyla belirtilir. Bir asansör bir katta durduğunda, her iki kapı grubu da önceden belirlenmiş bir süre boyunca otomatik olarak açılarak yolcuların asansöre girip çıkmalarını izin verir.\n",
    "\n",
    "* Simülatör, gerçek zaman geçişini simüle etmek ve simülasyonda meydana gelen olayları zaman damgası ve günlüğe kaydetmek için bir \"saat\" kullanır. Simülatör tarafından yolcu oluşturmak ve her yolcu için kalkış ve varış katlarını belirlemek için rastgele bir sayı üretici kullanılır."
   ]
  },
  {
   "cell_type": "code",
   "execution_count": null,
   "metadata": {},
   "outputs": [],
   "source": []
  }
 ],
 "metadata": {
  "kernelspec": {
   "display_name": "Python 3.10.8 64-bit (microsoft store)",
   "language": "python",
   "name": "python3"
  },
  "language_info": {
   "name": "python",
   "version": "3.10.8"
  },
  "orig_nbformat": 4,
  "vscode": {
   "interpreter": {
    "hash": "75328cd36868a46990b96b50a3e79d16599f753ed0672728bccd76ddc954032c"
   }
  }
 },
 "nbformat": 4,
 "nbformat_minor": 2
}
