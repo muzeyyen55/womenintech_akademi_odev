{
 "cells": [
  {
   "cell_type": "code",
   "execution_count": 1,
   "metadata": {},
   "outputs": [
    {
     "name": "stdout",
     "output_type": "stream",
     "text": [
      "Üzgünüm, Daha Büyük Bir Tahminde Bulunmalısın\n",
      "Üzgünüm, Daha Büyük Bir Tahminde Bulunmalısın\n",
      "Üzgünüm, Daha Büyük Bir Tahminde Bulunmalısın\n"
     ]
    }
   ],
   "source": [
    "from random import randint\n",
    "\n",
    "def guess(number):\n",
    "    user_number = int(input(\"Sayı Tahmin Oyunu İçin 1 - 100 Arasında Bir Tahminde Bulunuz\"))\n",
    "    while number != user_number:\n",
    "        if number < user_number:\n",
    "            print(\"Üzgünüm, Daha Küçük Bir Tahminde Bulunmalısın\")\n",
    "        else:\n",
    "            print(\"Üzgünüm, Daha Büyük Bir Tahminde Bulunmalısın\")\n",
    "            user_number = int(input(\"Lütfen Yeniden Bir Tahminde Bulunuz\"))\n",
    "    else:\n",
    "        print(\"Tebrikler, Doğru Tahmimn!\")\n",
    "guess(randint(1, 100))"
   ]
  }
 ],
 "metadata": {
  "kernelspec": {
   "display_name": "Python 3.10.8 64-bit (microsoft store)",
   "language": "python",
   "name": "python3"
  },
  "language_info": {
   "codemirror_mode": {
    "name": "ipython",
    "version": 3
   },
   "file_extension": ".py",
   "mimetype": "text/x-python",
   "name": "python",
   "nbconvert_exporter": "python",
   "pygments_lexer": "ipython3",
   "version": "3.10.8"
  },
  "orig_nbformat": 4,
  "vscode": {
   "interpreter": {
    "hash": "75328cd36868a46990b96b50a3e79d16599f753ed0672728bccd76ddc954032c"
   }
  }
 },
 "nbformat": 4,
 "nbformat_minor": 2
}
