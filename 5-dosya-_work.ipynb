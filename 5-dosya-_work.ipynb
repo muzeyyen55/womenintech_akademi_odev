{
 "cells": [
  {
   "cell_type": "markdown",
   "metadata": {},
   "source": [
    "**1.Soru**\n",
    "\n",
    "0 - 20 arasında karışık sırada sayıları tutan bir listenizin olduğunu düşünün. Bu liste içerisinde n tane sayı eksik. n ve eksik sayıları bulunuz.\n",
    "\n",
    "Örnek: my_list = [0, 7, 5, 8, 2] -> 0-10 arasında\n",
    "\n",
    "6 adet sayı eksiktir. Eksik olan sayılar [1, 3, 4, 6, 9, 10]"
   ]
  },
  {
   "cell_type": "code",
   "execution_count": 19,
   "metadata": {},
   "outputs": [
    {
     "name": "stdout",
     "output_type": "stream",
     "text": [
      "Eksik Olan Sayılar: [3, 5, 8, 13, 14, 16, 17, 18, 19, 21, 22, 23, 24, 25, 26, 28, 29, 30, 31, 32, 33, 34, 35, 36, 37, 38, 39, 40, 41, 42, 43, 44, 45, 46, 47, 48, 49, 51, 52, 53, 54, 55, 56, 57, 58, 59, 60, 61, 62, 63, 64, 65, 66, 67, 68, 69, 70, 71, 72, 73, 74, 75, 76, 77, 78, 79, 80, 81, 82, 83, 84, 85, 86, 87, 88, 89, 90, 91, 92, 94, 95, 96, 97, 98]\n"
     ]
    }
   ],
   "source": [
    "def my_list(list): return [i for i in range(list[0], list[-1]+1)  \n",
    "       if i not in list]   \n",
    "\n",
    "list = [1, 2, 4, 6, 7, 9, 10, 11, 12, 15, 27, 93, 20, 50, 99] \n",
    "print(\"Eksik Olan Sayılar:\", (my_list(list)))"
   ]
  },
  {
   "cell_type": "markdown",
   "metadata": {},
   "source": [
    "**2.Soru** \n",
    "\n",
    "0' dan 100' e kadar karışık sırada sayıları tutan bir listenizin olduğunu düşünün. Bu liste içerisinde bu defa n tane sayı yerine 1 adet sayı eksik. Eksik olan sayıyı bulunuz."
   ]
  },
  {
   "cell_type": "code",
   "execution_count": 2,
   "metadata": {},
   "outputs": [
    {
     "name": "stdout",
     "output_type": "stream",
     "text": [
      "Eksik Olan Sayı: [8]\n"
     ]
    }
   ],
   "source": [
    "def my_list(list): return [i for i in range(list[0], list[-1]+1)  \n",
    "       if i not in list]   \n",
    "\n",
    "list = [1, 2, 3, 4, 5, 6, 7, 9, 10] \n",
    "print(\"Eksik Olan Sayı:\", (my_list(list)))"
   ]
  },
  {
   "cell_type": "markdown",
   "metadata": {},
   "source": [
    "**3.Soru**\n",
    "\n",
    "Bir liste üzerinde sıralama algoritmasını kullanarak listeyi sıralayınız."
   ]
  },
  {
   "cell_type": "markdown",
   "metadata": {},
   "source": [
    "**SIRALAMA ALGORİTMASI NEDİR**\n",
    "\n",
    "* Bilgisayar bilimlerinde ve matematikte kullanılan, herhangi bir sayıdaki tip verilerin sınırlı beelek ve işlem gücü ile belirli bir sıraya göre dizilmesinin sağlanmasıdır. Yani en optimum bellek ve performans ikilisini verecek bir algoritmanın elde edilmesidir.\n",
    "\n",
    "**SELECTİON SORT (SEÇME ALGORİTMASI)**\n",
    "\n",
    "* Rastgele (random) olarak sıralanmış bir diziyi küçükten büyüğe doğru sıralamak istediğimizde, dizinin her döndürülmesinde en küçük elemanını seçerek en başa yazdırır. Yani birinci taramada bulunan en küçük eleman birinci sıraya, ikinci elemandan başlayarak yapılan ikinci taramada bulunan en küçük ikinci eleman ikinci sıraya vb. yerleştirilerek sıralama işlemi tamamlanır."
   ]
  },
  {
   "cell_type": "code",
   "execution_count": 2,
   "metadata": {},
   "outputs": [
    {
     "name": "stdout",
     "output_type": "stream",
     "text": [
      "Dizi: [-2, 45, 0, 11, -9]\n"
     ]
    }
   ],
   "source": [
    "def selectionSort(array, size):\n",
    "    for step in range(size):\n",
    "        min_idx = step\n",
    "\n",
    "        for i in range(step + 1, size):\n",
    "            if array[i] < array[min_idx]:\n",
    "                min_idex = 1\n",
    "\n",
    "        (array[step], array[min_idx]) = (array[min_idx], array[step])\n",
    "\n",
    "data = [-2, 45, 0, 11, -9]\n",
    "size = len(data)\n",
    "selectionSort(data, size)\n",
    "print(\"Dizi:\", data)"
   ]
  },
  {
   "cell_type": "markdown",
   "metadata": {},
   "source": [
    "**4.Soru**\n",
    "\n",
    "Fonksiyon bir integer array nums ve bir hedef target değişkeni almalı ve bizlere toplamı target olan indexleri dönmeli.\n",
    "\n",
    "**Kurallar:** Aynı index’teki değeri iki defa kullanamayız.\n",
    "\n",
    "1. Örnek\n",
    "\n",
    "* Parametreler: nums = [2,7,11,15], target = 9\n",
    "* Dönen Değer: [0,1]\n",
    "* Açıklama: nums[0] ve nums[1]'deki değerlerin toplamı 9 yaptığı için çıktımız [0, 1] oldu.\n",
    "\n",
    "2. Örnek\n",
    "\n",
    "* Parametreler: nums = [3,2,4], target = 6\n",
    "* Dönen Değer: [1,2]\n",
    "* Açıklama: nums[1] ve nums[2]'deki değerlerin toplamı 6 yaptığı için çıktımız [1, 2] oldu.\n",
    "Not: Burada [0,0] çıktı olarak kabul edilemez. Çünkü aynı index'i kullanamayacağımız söylenmişti.\n",
    "\n",
    "3. Örnek\n",
    "\n",
    "* Parametreler: nums = [3,2,4,1,3], target = 7\n",
    "* Dönen Değer: [2,4]\n",
    "* Açıklama: nums[2] ve nums[4]'deki değerlerin toplamı 7 yaptığı için çıktımız [2, 4] oldu."
   ]
  }
 ],
 "metadata": {
  "kernelspec": {
   "display_name": "Python 3.10.8 64-bit (microsoft store)",
   "language": "python",
   "name": "python3"
  },
  "language_info": {
   "codemirror_mode": {
    "name": "ipython",
    "version": 3
   },
   "file_extension": ".py",
   "mimetype": "text/x-python",
   "name": "python",
   "nbconvert_exporter": "python",
   "pygments_lexer": "ipython3",
   "version": "3.10.8"
  },
  "orig_nbformat": 4,
  "vscode": {
   "interpreter": {
    "hash": "75328cd36868a46990b96b50a3e79d16599f753ed0672728bccd76ddc954032c"
   }
  }
 },
 "nbformat": 4,
 "nbformat_minor": 2
}
