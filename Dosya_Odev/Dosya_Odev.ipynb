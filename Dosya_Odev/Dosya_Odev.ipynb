{
 "cells": [
  {
   "cell_type": "markdown",
   "metadata": {},
   "source": [
    "Düzensiz ve duplicate veriden oluşan \"all_data.txt\" dosyası üzerinde yapılacak olan işlemler;\n",
    "\n",
    "* Bütün text küçük harfe çevrilecek\n",
    "* Türkçe karakterler replace edilecek\n",
    "  * ş -> s\n",
    "  * ı -> i\n",
    "  * ö -> o\n",
    "  * ğ -> g\n",
    "  * ç -> c\n",
    "  * ü -> u\n",
    "\n",
    "\n",
    "  \n",
    "* Noktalama işaretleri kaldırılacak\n",
    "* Bir satır tamamen sayılardan oluşuyorsa satırı yeni dosyaya ekleme\n",
    "* Her satırda bir cümle olacak şekilde satırları düzenleyin\n",
    "* duplicate veri barındırmayacak"
   ]
  },
  {
   "cell_type": "code",
   "execution_count": 19,
   "metadata": {},
   "outputs": [
    {
     "data": {
      "text/html": [
       "<div>\n",
       "<style scoped>\n",
       "    .dataframe tbody tr th:only-of-type {\n",
       "        vertical-align: middle;\n",
       "    }\n",
       "\n",
       "    .dataframe tbody tr th {\n",
       "        vertical-align: top;\n",
       "    }\n",
       "\n",
       "    .dataframe thead th {\n",
       "        text-align: right;\n",
       "    }\n",
       "</style>\n",
       "<table border=\"1\" class=\"dataframe\">\n",
       "  <thead>\n",
       "    <tr style=\"text-align: right;\">\n",
       "      <th></th>\n",
       "      <th>ANASAYFA</th>\n",
       "    </tr>\n",
       "  </thead>\n",
       "  <tbody>\n",
       "    <tr>\n",
       "      <th>0</th>\n",
       "      <td>E-VERGI ÖDEME</td>\n",
       "    </tr>\n",
       "    <tr>\n",
       "      <th>1</th>\n",
       "      <td>0216 382 3 382</td>\n",
       "    </tr>\n",
       "    <tr>\n",
       "      <th>2</th>\n",
       "      <td>BAŞKAN</td>\n",
       "    </tr>\n",
       "    <tr>\n",
       "      <th>3</th>\n",
       "      <td>KURUMSAL</td>\n",
       "    </tr>\n",
       "    <tr>\n",
       "      <th>4</th>\n",
       "      <td>HİZMETLERİMİZ</td>\n",
       "    </tr>\n",
       "    <tr>\n",
       "      <th>...</th>\n",
       "      <td>...</td>\n",
       "    </tr>\n",
       "    <tr>\n",
       "      <th>1184219</th>\n",
       "      <td>E-Posta: arnavutkoy@arnavutkoy.bel.tr</td>\n",
       "    </tr>\n",
       "    <tr>\n",
       "      <th>1184220</th>\n",
       "      <td>Kep: arnavutkoy@hs01.kep.tr</td>\n",
       "    </tr>\n",
       "    <tr>\n",
       "      <th>1184221</th>\n",
       "      <td>Faks: 0 (212) 682 04 08</td>\n",
       "    </tr>\n",
       "    <tr>\n",
       "      <th>1184222</th>\n",
       "      <td>© 2021 Tüm Hakları Saklıdır Arnavutköy Belediy...</td>\n",
       "    </tr>\n",
       "    <tr>\n",
       "      <th>1184223</th>\n",
       "      <td>design by 362</td>\n",
       "    </tr>\n",
       "  </tbody>\n",
       "</table>\n",
       "<p>1184224 rows × 1 columns</p>\n",
       "</div>"
      ],
      "text/plain": [
       "                                                  ANASAYFA\n",
       "0                                            E-VERGI ÖDEME\n",
       "1                                           0216 382 3 382\n",
       "2                                                   BAŞKAN\n",
       "3                                                 KURUMSAL\n",
       "4                                            HİZMETLERİMİZ\n",
       "...                                                    ...\n",
       "1184219              E-Posta: arnavutkoy@arnavutkoy.bel.tr\n",
       "1184220                        Kep: arnavutkoy@hs01.kep.tr\n",
       "1184221                            Faks: 0 (212) 682 04 08\n",
       "1184222  © 2021 Tüm Hakları Saklıdır Arnavutköy Belediy...\n",
       "1184223                                      design by 362\n",
       "\n",
       "[1184224 rows x 1 columns]"
      ]
     },
     "execution_count": 19,
     "metadata": {},
     "output_type": "execute_result"
    }
   ],
   "source": [
    "import pandas as pd\n",
    "df = pd.read_table(\"all_data.txt\")\n",
    "df"
   ]
  }
 ],
 "metadata": {
  "kernelspec": {
   "display_name": "Python 3.10.8 64-bit (microsoft store)",
   "language": "python",
   "name": "python3"
  },
  "language_info": {
   "codemirror_mode": {
    "name": "ipython",
    "version": 3
   },
   "file_extension": ".py",
   "mimetype": "text/x-python",
   "name": "python",
   "nbconvert_exporter": "python",
   "pygments_lexer": "ipython3",
   "version": "3.10.8"
  },
  "orig_nbformat": 4,
  "vscode": {
   "interpreter": {
    "hash": "75328cd36868a46990b96b50a3e79d16599f753ed0672728bccd76ddc954032c"
   }
  }
 },
 "nbformat": 4,
 "nbformat_minor": 2
}
